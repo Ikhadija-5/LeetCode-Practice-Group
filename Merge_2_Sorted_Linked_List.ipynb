{
  "nbformat": 4,
  "nbformat_minor": 0,
  "metadata": {
    "colab": {
      "name": "Merge_2_Sorted_Linked_List.ipynb",
      "provenance": [],
      "authorship_tag": "ABX9TyOAFCUXGvHVqYiYKYKvjpqx",
      "include_colab_link": true
    },
    "kernelspec": {
      "name": "python3",
      "display_name": "Python 3"
    },
    "language_info": {
      "name": "python"
    }
  },
  "cells": [
    {
      "cell_type": "markdown",
      "metadata": {
        "id": "view-in-github",
        "colab_type": "text"
      },
      "source": [
        "<a href=\"https://colab.research.google.com/github/Ikhadija-5/LeetCode-Practice-Group/blob/main/Merge_2_Sorted_Linked_List.ipynb\" target=\"_parent\"><img src=\"https://colab.research.google.com/assets/colab-badge.svg\" alt=\"Open In Colab\"/></a>"
      ]
    },
    {
      "cell_type": "code",
      "source": [
        "# Definition for singly-linked list.\n",
        "class ListNode:\n",
        "    def __init__(self, val=0, next=None):\n",
        "        self.val = val\n",
        "        self.next = next\n",
        "\n",
        "class Solution:\n",
        "    def mergeTwoLists(self, list1, list2):\n",
        "\n",
        "        # # A funtion to insert a value in the linked list. \n",
        "        def addAtIndex(head, index, val):\n",
        "\n",
        "            newNode = ListNode(val)\n",
        "\n",
        "            if index == 0:\n",
        "                newNode.next = head\n",
        "                head = newNode\n",
        "                return head\n",
        "\n",
        "            runner = head\n",
        "\n",
        "            for i in range(index-1):\n",
        "                runner = runner.next\n",
        "            \n",
        "            newNode.next = runner.next\n",
        "            runner.next = newNode\n",
        "\n",
        "            return head\n",
        "\n",
        "        # Program start point\n",
        "        p1 = list1\n",
        "        p2 = list2\n",
        "        index = 0\n",
        "        while p1 and p2:\n",
        "            if p1.val <= p2.val:\n",
        "                p1 = p1.next\n",
        "               \n",
        "            else:\n",
        "                list1 = addAtIndex(list1, index, p2.val)\n",
        "                p2 = p2.next\n",
        "            index+=1\n",
        "            \n",
        "        while p2 is not None:\n",
        "            list1 = addAtIndex(list1, index, val = p2.val)\n",
        "            p2 = p2.next\n",
        "            index+=1\n",
        "        return list1\n",
        "\n",
        "        "
      ],
      "metadata": {
        "id": "cEkFRzm0PXON"
      },
      "execution_count": 1,
      "outputs": []
    },
    {
      "cell_type": "code",
      "source": [
        ""
      ],
      "metadata": {
        "id": "i-ZaUqZMIh2o"
      },
      "execution_count": null,
      "outputs": []
    }
  ]
}