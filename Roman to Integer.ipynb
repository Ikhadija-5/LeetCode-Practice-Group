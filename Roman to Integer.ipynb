{
 "cells": [
  {
   "cell_type": "markdown",
   "id": "d0b5e43c",
   "metadata": {},
   "source": [
    "Roman numerals are represented by seven different symbols: I, V, X, L, C, D and M.\n",
    "\n",
    "For example, 2 is written as II in Roman numeral, just two ones added together. 12 is written as XII, which is simply X + II. The number 27 is written as XXVII, which is XX + V + II.\n",
    "\n",
    "Roman numerals are usually written largest to smallest from left to right. However, the numeral for four is not IIII. Instead, the number four is written as IV. Because the one is before the five we subtract it making four. The same principle applies to the number nine, which is written as IX. There are six instances where subtraction is used:\n",
    "\n",
    "I can be placed before V (5) and X (10) to make 4 and 9. \n",
    "X can be placed before L (50) and C (100) to make 40 and 90. \n",
    "C can be placed before D (500) and M (1000) to make 400 and 900.\n",
    "Given a roman numeral, convert it to an integer."
   ]
  },
  {
   "cell_type": "code",
   "execution_count": 20,
   "id": "71658db0",
   "metadata": {},
   "outputs": [],
   "source": [
    "class Solution(object):\n",
    "    def romanToInt(self, s):\n",
    "        \"\"\"\n",
    "        :type s: str\n",
    "        :rtype: int\n",
    "        \"\"\"\n",
    "        result = 0\n",
    "        list_elt = [elt for elt in s]\n",
    "        dict_rom = {'I':1,'V':5,'X':10,'L':50,'C':100,'D':500,'M':1000} \n",
    "        j = 0\n",
    "        for i in range(len(list_elt)-1):\n",
    "            j = i+1\n",
    "            if dict_rom[list_elt[i]]>= dict_rom[list_elt[j]]:\n",
    "                result += dict_rom[list_elt[i]]\n",
    "            elif dict_rom[list_elt[i]]<dict_rom[list_elt[j]]: \n",
    "                result -= dict_rom[list_elt[i]]\n",
    "        result += dict_rom[list_elt[j]]  \n",
    "        return result              "
   ]
  },
  {
   "cell_type": "markdown",
   "id": "51cba125",
   "metadata": {},
   "source": [
    "Input: s = \"LVIII\"\\\n",
    "Output: 58"
   ]
  },
  {
   "cell_type": "code",
   "execution_count": 25,
   "id": "6de11c9e",
   "metadata": {},
   "outputs": [],
   "source": [
    "s = \"LVIII\"\n",
    "Output: 58"
   ]
  },
  {
   "cell_type": "code",
   "execution_count": 26,
   "id": "fadcc8c0",
   "metadata": {},
   "outputs": [],
   "source": [
    "S = Solution()"
   ]
  },
  {
   "cell_type": "code",
   "execution_count": 27,
   "id": "93ebd59c",
   "metadata": {},
   "outputs": [
    {
     "data": {
      "text/plain": [
       "58"
      ]
     },
     "execution_count": 27,
     "metadata": {},
     "output_type": "execute_result"
    }
   ],
   "source": [
    "S.romanToInt(s)"
   ]
  },
  {
   "cell_type": "markdown",
   "id": "41d83a49",
   "metadata": {},
   "source": [
    "<h1>##################### End of Code ##########################</h1>"
   ]
  }
 ],
 "metadata": {
  "kernelspec": {
   "display_name": "Python 3 (ipykernel)",
   "language": "python",
   "name": "python3"
  },
  "language_info": {
   "codemirror_mode": {
    "name": "ipython",
    "version": 3
   },
   "file_extension": ".py",
   "mimetype": "text/x-python",
   "name": "python",
   "nbconvert_exporter": "python",
   "pygments_lexer": "ipython3",
   "version": "3.9.7"
  }
 },
 "nbformat": 4,
 "nbformat_minor": 5
}
