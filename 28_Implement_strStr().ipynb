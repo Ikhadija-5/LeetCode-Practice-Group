{
  "nbformat": 4,
  "nbformat_minor": 0,
  "metadata": {
    "colab": {
      "name": "28. Implement strStr().ipynb",
      "provenance": [],
      "authorship_tag": "ABX9TyMxMWRg2YulhAJGhw1LrkIU",
      "include_colab_link": true
    },
    "kernelspec": {
      "name": "python3",
      "display_name": "Python 3"
    },
    "language_info": {
      "name": "python"
    }
  },
  "cells": [
    {
      "cell_type": "markdown",
      "metadata": {
        "id": "view-in-github",
        "colab_type": "text"
      },
      "source": [
        "<a href=\"https://colab.research.google.com/github/Ikhadija-5/LeetCode-Practice-Group/blob/main/28_Implement_strStr().ipynb\" target=\"_parent\"><img src=\"https://colab.research.google.com/assets/colab-badge.svg\" alt=\"Open In Colab\"/></a>"
      ]
    },
    {
      "cell_type": "markdown",
      "source": [
        "Given two strings needle and haystack, return the index of the first occurrence of needle in haystack, or -1 if needle is not part of haystack.\n",
        "\n",
        "Clarification:\n",
        "\n",
        "What should we return when needle is an empty string? This is a great question to ask during an interview.\n",
        "\n",
        "For the purpose of this problem, we will return 0 when needle is an empty string. This is consistent to C's strstr() and Java's indexOf()."
      ],
      "metadata": {
        "id": "3UuJFdaOHG_z"
      }
    },
    {
      "cell_type": "code",
      "execution_count": 1,
      "metadata": {
        "id": "8YJGFqw2GmEo"
      },
      "outputs": [],
      "source": [
        "def strStr(haystack, needle):\n",
        "        \"\"\"\n",
        "        :type haystack: str\n",
        "        :type needle: str\n",
        "        :rtype: int\n",
        "        \"\"\"\n",
        "        # Base conditions\n",
        "        if haystack is None or needle is None:\n",
        "            return -1\n",
        "\n",
        "        # Special case\n",
        "        if haystack == needle:\n",
        "            return 0\n",
        "\n",
        "        # Length of the needle\n",
        "        needleLength = len(needle)\n",
        "        \n",
        "        for i in range(len(haystack) - needleLength + 1):\n",
        "            if haystack[i:i + needleLength] == needle:\n",
        "                return i\n",
        "        return -1   "
      ]
    },
    {
      "cell_type": "code",
      "source": [
        "haystack = \"hello\"\n",
        "needle = \"ll\""
      ],
      "metadata": {
        "id": "LeVGdfB_HWp0"
      },
      "execution_count": 3,
      "outputs": []
    },
    {
      "cell_type": "code",
      "source": [
        "strStr(haystack, needle)"
      ],
      "metadata": {
        "colab": {
          "base_uri": "https://localhost:8080/"
        },
        "id": "fSbeK-mOHa3t",
        "outputId": "95ca5a76-61d7-452a-8327-a19037839cb2"
      },
      "execution_count": 4,
      "outputs": [
        {
          "output_type": "execute_result",
          "data": {
            "text/plain": [
              "2"
            ]
          },
          "metadata": {},
          "execution_count": 4
        }
      ]
    },
    {
      "cell_type": "code",
      "source": [
        ""
      ],
      "metadata": {
        "id": "TPZYd8HTHgbp"
      },
      "execution_count": null,
      "outputs": []
    }
  ]
}