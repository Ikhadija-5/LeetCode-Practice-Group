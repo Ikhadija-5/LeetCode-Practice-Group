{
  "nbformat": 4,
  "nbformat_minor": 0,
  "metadata": {
    "colab": {
      "name": "Longest Prefix.ipynb",
      "provenance": [],
      "authorship_tag": "ABX9TyPZp/le7sIGVQN+fbnnk/YZ",
      "include_colab_link": true
    },
    "kernelspec": {
      "name": "python3",
      "display_name": "Python 3"
    },
    "language_info": {
      "name": "python"
    }
  },
  "cells": [
    {
      "cell_type": "markdown",
      "metadata": {
        "id": "view-in-github",
        "colab_type": "text"
      },
      "source": [
        "<a href=\"https://colab.research.google.com/github/Ikhadija-5/LeetCode-Practice-Group/blob/main/Longest_Prefix.ipynb\" target=\"_parent\"><img src=\"https://colab.research.google.com/assets/colab-badge.svg\" alt=\"Open In Colab\"/></a>"
      ]
    },
    {
      "cell_type": "code",
      "source": [
        "def longestCommonPrefix(words):\n",
        "      \n",
        "    # size = len(words)\n",
        "  \n",
        "    # if size is 0, return empty string \n",
        "    if (len(words) == 0):\n",
        "        return \"\"\n",
        "  \n",
        "    if (len(words) == 1):\n",
        "        return words[0]\n",
        "  \n",
        "    # sort the array of strings \n",
        "    words.sort()\n",
        "      \n",
        "    # find the minimum length from \n",
        "    # first and last string \n",
        "    end = min(len(words[0]), len(words[len(words) - 1]))\n",
        "  \n",
        "    # find the common prefix between \n",
        "    # the first and last string \n",
        "    i = 0\n",
        "    while (i < end and \n",
        "           words[0][i] == words[len(words) - 1][i]):\n",
        "        i += 1\n",
        "  \n",
        "    pre = words[0][0: i]\n",
        "    return pre\n"
      ],
      "metadata": {
        "id": "QMfV-xv-dMRI"
      },
      "execution_count": 13,
      "outputs": []
    },
    {
      "cell_type": "code",
      "source": [
        "longestCommonPrefix( [\"flower\",\"flow\",\"flight\"])"
      ],
      "metadata": {
        "colab": {
          "base_uri": "https://localhost:8080/",
          "height": 57
        },
        "id": "0oA9yFTReN_i",
        "outputId": "d3ea2872-24bd-4f10-f462-183b9b3cc5f2"
      },
      "execution_count": 14,
      "outputs": [
        {
          "output_type": "execute_result",
          "data": {
            "text/plain": [
              "'fl'"
            ],
            "application/vnd.google.colaboratory.intrinsic+json": {
              "type": "string"
            }
          },
          "metadata": {},
          "execution_count": 14
        }
      ]
    }
  ]
}