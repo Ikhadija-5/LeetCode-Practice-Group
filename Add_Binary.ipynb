{
  "nbformat": 4,
  "nbformat_minor": 0,
  "metadata": {
    "colab": {
      "name": "Add Binary.ipynb",
      "provenance": [],
      "authorship_tag": "ABX9TyNPGMj+6HQgtrai4MQ5KR6o",
      "include_colab_link": true
    },
    "kernelspec": {
      "name": "python3",
      "display_name": "Python 3"
    },
    "language_info": {
      "name": "python"
    }
  },
  "cells": [
    {
      "cell_type": "markdown",
      "metadata": {
        "id": "view-in-github",
        "colab_type": "text"
      },
      "source": [
        "<a href=\"https://colab.research.google.com/github/Ikhadija-5/LeetCode-Practice-Group/blob/main/Add_Binary.ipynb\" target=\"_parent\"><img src=\"https://colab.research.google.com/assets/colab-badge.svg\" alt=\"Open In Colab\"/></a>"
      ]
    },
    {
      "cell_type": "markdown",
      "source": [
        "## Given two binary strings a and b, return their sum as a binary string.\n"
      ],
      "metadata": {
        "id": "Zv3gWYd5au4-"
      }
    },
    {
      "cell_type": "markdown",
      "source": [
        "Method 1: Using In-built function"
      ],
      "metadata": {
        "id": "M3sEsbMkLxfE"
      }
    },
    {
      "cell_type": "code",
      "source": [
        "def Add_Binary1(a,b):\n",
        "\n",
        "  # Calculating binary value using function\n",
        "  result = bin(int(a, 2) + int(b, 2))\n",
        "\n",
        "  return result[2:]\n",
        "\n"
      ],
      "metadata": {
        "id": "DdyQ9alKZiDA"
      },
      "execution_count": 116,
      "outputs": []
    },
    {
      "cell_type": "code",
      "source": [
        "Add_Binary1(\"11\",\"1\")"
      ],
      "metadata": {
        "colab": {
          "base_uri": "https://localhost:8080/",
          "height": 57
        },
        "id": "7n1MduYwLewz",
        "outputId": "e6d42675-c6fe-458b-e615-ec88d975e454"
      },
      "execution_count": 117,
      "outputs": [
        {
          "output_type": "execute_result",
          "data": {
            "text/plain": [
              "'100'"
            ],
            "application/vnd.google.colaboratory.intrinsic+json": {
              "type": "string"
            }
          },
          "metadata": {},
          "execution_count": 117
        }
      ]
    },
    {
      "cell_type": "code",
      "source": [
        "Add_Binary1(\"1010\", \"1011\")"
      ],
      "metadata": {
        "colab": {
          "base_uri": "https://localhost:8080/",
          "height": 57
        },
        "id": "e7YW48wXLhcs",
        "outputId": "305d5712-c37e-4290-d512-7c0bbbe341dc"
      },
      "execution_count": 118,
      "outputs": [
        {
          "output_type": "execute_result",
          "data": {
            "text/plain": [
              "'10101'"
            ],
            "application/vnd.google.colaboratory.intrinsic+json": {
              "type": "string"
            }
          },
          "metadata": {},
          "execution_count": 118
        }
      ]
    },
    {
      "cell_type": "markdown",
      "source": [
        "Method 2: Programming from scratch, we convert to base 10, sum and convert final answer to a binary format"
      ],
      "metadata": {
        "id": "RcTG75K3Lzou"
      }
    },
    {
      "cell_type": "code",
      "source": [
        "def Add_Binary2(a, b):\n",
        "\n",
        "    carry = 0\n",
        "\n",
        "    a= a[::-1]\n",
        "    b= b[::-1]\n",
        "    \n",
        "    for i, v in enumerate(a):\n",
        "        if v=='1':\n",
        "          carry+= 2**i\n",
        "\n",
        "  \n",
        "    for i, v in enumerate(b):\n",
        "        if v=='1':\n",
        "            carry+= 2**i\n",
        "  \n",
        "    # print(carry)\n",
        "    \n",
        "    return format(carry,'b')"
      ],
      "metadata": {
        "id": "Wc0AnZFM-7P2"
      },
      "execution_count": 134,
      "outputs": []
    },
    {
      "cell_type": "code",
      "source": [
        "Add_Binary2(\"11\",\"1\")"
      ],
      "metadata": {
        "colab": {
          "base_uri": "https://localhost:8080/",
          "height": 57
        },
        "id": "nFVgn48-_DWy",
        "outputId": "278e1925-8555-42a9-8a69-fe1382e2b215"
      },
      "execution_count": 135,
      "outputs": [
        {
          "output_type": "execute_result",
          "data": {
            "text/plain": [
              "'100'"
            ],
            "application/vnd.google.colaboratory.intrinsic+json": {
              "type": "string"
            }
          },
          "metadata": {},
          "execution_count": 135
        }
      ]
    },
    {
      "cell_type": "code",
      "source": [
        "Add_Binary2(\"1010\", \"1011\")"
      ],
      "metadata": {
        "colab": {
          "base_uri": "https://localhost:8080/",
          "height": 57
        },
        "id": "LbKQDYTnZigY",
        "outputId": "5f2f60b0-0bb5-43eb-e26a-60cc2fb15ea5"
      },
      "execution_count": 136,
      "outputs": [
        {
          "output_type": "execute_result",
          "data": {
            "text/plain": [
              "'10101'"
            ],
            "application/vnd.google.colaboratory.intrinsic+json": {
              "type": "string"
            }
          },
          "metadata": {},
          "execution_count": 136
        }
      ]
    },
    {
      "cell_type": "code",
      "source": [
        ""
      ],
      "metadata": {
        "id": "Ben5sLBa-ZIM"
      },
      "execution_count": null,
      "outputs": []
    }
  ]
}