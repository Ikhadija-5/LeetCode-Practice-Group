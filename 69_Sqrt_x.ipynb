{
  "nbformat": 4,
  "nbformat_minor": 0,
  "metadata": {
    "colab": {
      "name": "69-Sqrt-x.ipynb",
      "provenance": [],
      "collapsed_sections": [],
      "authorship_tag": "ABX9TyMKABzmA7rgmRPC8gLxc+VH",
      "include_colab_link": true
    },
    "kernelspec": {
      "name": "python3",
      "display_name": "Python 3"
    },
    "language_info": {
      "name": "python"
    }
  },
  "cells": [
    {
      "cell_type": "markdown",
      "metadata": {
        "id": "view-in-github",
        "colab_type": "text"
      },
      "source": [
        "<a href=\"https://colab.research.google.com/github/Ikhadija-5/LeetCode-Practice-Group/blob/main/69_Sqrt_x.ipynb\" target=\"_parent\"><img src=\"https://colab.research.google.com/assets/colab-badge.svg\" alt=\"Open In Colab\"/></a>"
      ]
    },
    {
      "cell_type": "markdown",
      "source": [
        "#### Babylone Method"
      ],
      "metadata": {
        "id": "J4pohZqyj1E-"
      }
    },
    {
      "cell_type": "code",
      "execution_count": 3,
      "metadata": {
        "id": "hT0fIepad6Xt"
      },
      "outputs": [],
      "source": [
        "def sqrt(x):\n",
        "  if x <= 1:\n",
        "    return x\n",
        "  else:\n",
        "    x_n = 0.5 * x\n",
        "    change = 1\n",
        "    while change > 0.1:\n",
        "      next_n = 0.5*(x_n + (x/x_n))\n",
        "      change = abs(x_n - next_n)\n",
        "      x_n = next_n\n",
        "  return int(x_n)"
      ]
    },
    {
      "cell_type": "code",
      "source": [
        "print(sqrt(8))"
      ],
      "metadata": {
        "colab": {
          "base_uri": "https://localhost:8080/"
        },
        "id": "ndFuZOC_wipx",
        "outputId": "40e254a9-00d9-4113-b3a4-74ebdafa434f"
      },
      "execution_count": 4,
      "outputs": [
        {
          "output_type": "stream",
          "name": "stdout",
          "text": [
            "2\n"
          ]
        }
      ]
    },
    {
      "cell_type": "markdown",
      "source": [
        "### Using Math Library "
      ],
      "metadata": {
        "id": "h29Ieh3UkYZ1"
      }
    },
    {
      "cell_type": "code",
      "source": [
        "def sqrt(x):\n",
        "  from math import sqrt\n",
        "  return int(sqrt(x))"
      ],
      "metadata": {
        "id": "T6I0IRhiw24B"
      },
      "execution_count": 1,
      "outputs": []
    },
    {
      "cell_type": "code",
      "source": [
        "print(sqrt(20))"
      ],
      "metadata": {
        "colab": {
          "base_uri": "https://localhost:8080/"
        },
        "id": "jpKcmbVUkPgq",
        "outputId": "8764611a-1a10-4a23-e747-e06d1a238de0"
      },
      "execution_count": 2,
      "outputs": [
        {
          "output_type": "stream",
          "name": "stdout",
          "text": [
            "4\n"
          ]
        }
      ]
    },
    {
      "cell_type": "code",
      "source": [
        ""
      ],
      "metadata": {
        "id": "1MuDLs-dkVsJ"
      },
      "execution_count": null,
      "outputs": []
    }
  ]
}