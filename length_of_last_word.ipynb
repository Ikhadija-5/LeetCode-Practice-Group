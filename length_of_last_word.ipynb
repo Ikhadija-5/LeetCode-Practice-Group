{
  "nbformat": 4,
  "nbformat_minor": 0,
  "metadata": {
    "colab": {
      "name": "length-of-last-word.ipynb",
      "provenance": [],
      "collapsed_sections": [],
      "authorship_tag": "ABX9TyNTGhxyTGDljKRPsKIc1x/8",
      "include_colab_link": true
    },
    "kernelspec": {
      "name": "python3",
      "display_name": "Python 3"
    },
    "language_info": {
      "name": "python"
    }
  },
  "cells": [
    {
      "cell_type": "markdown",
      "metadata": {
        "id": "view-in-github",
        "colab_type": "text"
      },
      "source": [
        "<a href=\"https://colab.research.google.com/github/Ikhadija-5/LeetCode-Practice-Group/blob/main/length_of_last_word.ipynb\" target=\"_parent\"><img src=\"https://colab.research.google.com/assets/colab-badge.svg\" alt=\"Open In Colab\"/></a>"
      ]
    },
    {
      "cell_type": "code",
      "execution_count": 2,
      "metadata": {
        "id": "V8o7TGJXAJY9"
      },
      "outputs": [],
      "source": [
        "def lengthOfLastWord(s):\n",
        "    # if s == \"\":\n",
        "    #     return 0\n",
        "    \n",
        "    split_list=s.split()\n",
        "    \n",
        "    # if len(split_list)==0:\n",
        "    #     return 0\n",
        "    last_word=split_list[-1]\n",
        "    \n",
        "    return len(last_word)"
      ]
    },
    {
      "cell_type": "code",
      "source": [
        "s = \"Hello World\"\n",
        "#s = \"   fly me   to   the moon  \"\n",
        "#s = \"luffy is still joyboy\"\n",
        "\n",
        "print(lengthOfLastWord(s))"
      ],
      "metadata": {
        "colab": {
          "base_uri": "https://localhost:8080/"
        },
        "id": "EW5Al6ZrA0B1",
        "outputId": "a6ae1ccd-39f3-447e-8201-e30074a61cfe"
      },
      "execution_count": 3,
      "outputs": [
        {
          "output_type": "stream",
          "name": "stdout",
          "text": [
            "5\n"
          ]
        }
      ]
    },
    {
      "cell_type": "code",
      "source": [
        ""
      ],
      "metadata": {
        "id": "SDLGkimfA2De"
      },
      "execution_count": null,
      "outputs": []
    }
  ]
}