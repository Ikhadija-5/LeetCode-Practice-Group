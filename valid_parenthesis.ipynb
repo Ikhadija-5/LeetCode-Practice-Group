{
  "cells": [
    {
      "cell_type": "markdown",
      "metadata": {
        "id": "view-in-github",
        "colab_type": "text"
      },
      "source": [
        "<a href=\"https://colab.research.google.com/github/Ikhadija-5/LeetCode-Practice-Group/blob/main/valid_parenthesis.ipynb\" target=\"_parent\"><img src=\"https://colab.research.google.com/assets/colab-badge.svg\" alt=\"Open In Colab\"/></a>"
      ]
    },
    {
      "cell_type": "code",
      "execution_count": null,
      "metadata": {
        "id": "k2ncfftmQa45"
      },
      "outputs": [],
      "source": [
        "# Declare the stack\n",
        "# Add all the opening brackets to the stack\n",
        "# If current character is not opening bracket, then it must be closing.\n",
        "# Check Empty Stack to see if the current stack contains the bracket.\n",
        "# If the current stack contains the bracket, then the current characters are the closing bracket.\n",
        "# Finally, we return True if the parentheses are balanced."
      ]
    },
    {
      "cell_type": "code",
      "execution_count": null,
      "metadata": {
        "id": "8YesWbUtQa47"
      },
      "outputs": [],
      "source": [
        "def ValidParanthesis(s):\n",
        "    stack = []\n",
        "    for i in s:\n",
        "        if i in [\"(\", \"{\", \"[\"]:\n",
        "            stack.append(i)\n",
        "        else:\n",
        "            if not stack:\n",
        "                return False\n",
        "            cur_char = stack.pop()\n",
        "            if cur_char == \"(\":\n",
        "                if i != \")\":\n",
        "                    return False\n",
        "            if cur_char == \"{\":\n",
        "                if i != \"}\":\n",
        "                    return False\n",
        "            if cur_char == \"[\":\n",
        "                if i != \"]\":\n",
        "                    return False\n",
        "    if stack:\n",
        "        return False\n",
        "    else:\n",
        "        return True "
      ]
    },
    {
      "cell_type": "code",
      "execution_count": null,
      "metadata": {
        "id": "zxUw2nAJQa47",
        "outputId": "e7494212-b0ec-46b6-8998-1ba203b0b53a"
      },
      "outputs": [
        {
          "data": {
            "text/plain": [
              "False"
            ]
          },
          "execution_count": 7,
          "metadata": {},
          "output_type": "execute_result"
        }
      ],
      "source": [
        "ValidParanthesis(\"{[]]}\")"
      ]
    },
    {
      "cell_type": "code",
      "execution_count": null,
      "metadata": {
        "id": "20HgyqmbQa48"
      },
      "outputs": [],
      "source": [
        ""
      ]
    }
  ],
  "metadata": {
    "kernelspec": {
      "display_name": "Python 3.9.7 ('base')",
      "language": "python",
      "name": "python3"
    },
    "language_info": {
      "codemirror_mode": {
        "name": "ipython",
        "version": 3
      },
      "file_extension": ".py",
      "mimetype": "text/x-python",
      "name": "python",
      "nbconvert_exporter": "python",
      "pygments_lexer": "ipython3",
      "version": "3.9.7"
    },
    "orig_nbformat": 4,
    "vscode": {
      "interpreter": {
        "hash": "b9a946afe9119d4613519b73a091d61355147396e413ce6363e6e4daf7c3c71d"
      }
    },
    "colab": {
      "name": "valid-parenthesis.ipynb",
      "provenance": [],
      "include_colab_link": true
    }
  },
  "nbformat": 4,
  "nbformat_minor": 0
}