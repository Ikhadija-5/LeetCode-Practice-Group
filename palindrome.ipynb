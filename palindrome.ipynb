{
  "cells": [
    {
      "cell_type": "markdown",
      "metadata": {
        "id": "view-in-github",
        "colab_type": "text"
      },
      "source": [
        "<a href=\"https://colab.research.google.com/github/Ikhadija-5/LeetCode-Practice-Group/blob/main/palindrome.ipynb\" target=\"_parent\"><img src=\"https://colab.research.google.com/assets/colab-badge.svg\" alt=\"Open In Colab\"/></a>"
      ]
    },
    {
      "cell_type": "markdown",
      "source": [
        " #### -  Palindrom Number\n",
        "Given an integer x, return true if x is palindrome integer.\n",
        "An integer is a palindrome when it reads the same backward as forward.\n",
        "\n",
        "For example, 121 is a palindrome while 123 is not.\n",
        "\n",
        "*   List item\n",
        "*   List item\n",
        "\n"
      ],
      "metadata": {
        "id": "co8V8LEiraFM"
      }
    },
    {
      "cell_type": "markdown",
      "source": [
        "- Example 1:\n",
        "\n",
        "Input: x = 121\n",
        "Output: true\n",
        "Explanation: 121 reads as 121 from left to right and from right to left.\n",
        "- Example 2:\n",
        "\n",
        "Input: x = -121\n",
        "Output: false\n",
        "Explanation: From left to right, it reads -121. From right to left, it becomes 121-. Therefore it is not a palindrome.\n",
        "- Example 3:\n",
        "\n",
        "Input: x = 10\n",
        "Output: false\n",
        "Explanation: Reads 01 from right to left. Therefore it is not a palindrome."
      ],
      "metadata": {
        "id": "hU89QvqIr6He"
      }
    },
    {
      "cell_type": "code",
      "source": [
        "def IsPalindrome(x):\n",
        "    \"\"\"This function checks if if an integer is a palindrome integer.\n",
        "        \n",
        "        Agrs:\n",
        "        - x : Is palindrome integer\n",
        "\n",
        "        Returns:\n",
        "        output: A boolean indicating if the integer is a palindrome integer.\n",
        "    \"\"\"\n",
        "    if x >= 0:\n",
        "        return x == int(str(x)[::-1])\n",
        "    else:\n",
        "        return False"
      ],
      "metadata": {
        "id": "Yg2wtWyyrQDN"
      },
      "execution_count": 2,
      "outputs": []
    },
    {
      "cell_type": "code",
      "execution_count": 3,
      "metadata": {
        "colab": {
          "base_uri": "https://localhost:8080/"
        },
        "id": "e077It8Mq9J1",
        "outputId": "54263cba-9ab0-4f0a-9e51-4598164bbe6f"
      },
      "outputs": [
        {
          "output_type": "execute_result",
          "data": {
            "text/plain": [
              "True"
            ]
          },
          "metadata": {},
          "execution_count": 3
        }
      ],
      "source": [
        "x1 = 123\n",
        "x2 = -121\n",
        "x3 = 10\n",
        "x4 = 5\n",
        "x5 = 121\n",
        "IsPalindrome(x5)"
      ]
    },
    {
      "cell_type": "code",
      "source": [
        "IsPalindrome(x1)"
      ],
      "metadata": {
        "colab": {
          "base_uri": "https://localhost:8080/"
        },
        "id": "1BMT9GcIsISs",
        "outputId": "90a24e1d-52a2-4052-de13-1334b12e5681"
      },
      "execution_count": 4,
      "outputs": [
        {
          "output_type": "execute_result",
          "data": {
            "text/plain": [
              "False"
            ]
          },
          "metadata": {},
          "execution_count": 4
        }
      ]
    },
    {
      "cell_type": "code",
      "execution_count": 5,
      "metadata": {
        "colab": {
          "base_uri": "https://localhost:8080/"
        },
        "id": "Fe_yf3Weq9J2",
        "outputId": "202b3c9f-3770-4d75-b8b1-83df128f8017"
      },
      "outputs": [
        {
          "output_type": "execute_result",
          "data": {
            "text/plain": [
              "False"
            ]
          },
          "metadata": {},
          "execution_count": 5
        }
      ],
      "source": [
        "IsPalindrome(-121)"
      ]
    },
    {
      "cell_type": "code",
      "source": [
        ""
      ],
      "metadata": {
        "id": "e9UgPSknsPmj"
      },
      "execution_count": null,
      "outputs": []
    }
  ],
  "metadata": {
    "kernelspec": {
      "display_name": "Python 3.9.7 ('base')",
      "language": "python",
      "name": "python3"
    },
    "language_info": {
      "codemirror_mode": {
        "name": "ipython",
        "version": 3
      },
      "file_extension": ".py",
      "mimetype": "text/x-python",
      "name": "python",
      "nbconvert_exporter": "python",
      "pygments_lexer": "ipython3",
      "version": "3.9.7"
    },
    "orig_nbformat": 4,
    "vscode": {
      "interpreter": {
        "hash": "b9a946afe9119d4613519b73a091d61355147396e413ce6363e6e4daf7c3c71d"
      }
    },
    "colab": {
      "name": "palindrome.ipynb",
      "provenance": [],
      "collapsed_sections": [],
      "include_colab_link": true
    }
  },
  "nbformat": 4,
  "nbformat_minor": 0
}