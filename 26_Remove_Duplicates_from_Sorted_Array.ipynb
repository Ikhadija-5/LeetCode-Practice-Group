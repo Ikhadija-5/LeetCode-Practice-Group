{
  "nbformat": 4,
  "nbformat_minor": 0,
  "metadata": {
    "colab": {
      "name": "26_Remove_Duplicates_from_Sorted_Array.ipynb",
      "provenance": [],
      "authorship_tag": "ABX9TyOsQAwhgZUGDPJO0GOmJmQL",
      "include_colab_link": true
    },
    "kernelspec": {
      "name": "python3",
      "display_name": "Python 3"
    },
    "language_info": {
      "name": "python"
    }
  },
  "cells": [
    {
      "cell_type": "markdown",
      "metadata": {
        "id": "view-in-github",
        "colab_type": "text"
      },
      "source": [
        "<a href=\"https://colab.research.google.com/github/Ikhadija-5/LeetCode-Practice-Group/blob/main/26_Remove_Duplicates_from_Sorted_Array.ipynb\" target=\"_parent\"><img src=\"https://colab.research.google.com/assets/colab-badge.svg\" alt=\"Open In Colab\"/></a>"
      ]
    },
    {
      "cell_type": "markdown",
      "source": [
        "##26. Remove Duplicates from Sorted Array\n",
        "Given an integer array nums sorted in non-decreasing order, remove the duplicates in-place such that each unique element appears only once. The relative order of the elements should be kept the same.\n",
        "\n",
        "Since it is impossible to change the length of the array in some languages, you must instead have the result be placed in the first part of the array nums. More formally, if there are **k** elements after removing the duplicates, then the first **k** elements of nums should hold the final result. It does not matter what you leave beyond the first **k** elements.\n",
        "\n",
        "Return **k** after placing the final result in the first **k** slots of **nums**."
      ],
      "metadata": {
        "id": "6eEySAwwHWKb"
      }
    },
    {
      "cell_type": "code",
      "execution_count": 1,
      "metadata": {
        "id": "haOWg9eVHUdd"
      },
      "outputs": [],
      "source": [
        "def removeDuplicates(nums):\n",
        "        \"\"\"\n",
        "        :type nums: List[int]\n",
        "        :rtype: int\n",
        "        \"\"\"\n",
        "        if (len(nums)==0):\n",
        "            return 0\n",
        "        i=0\n",
        "        for j in range(1,len(nums)):\n",
        "            if nums[i]!=nums[j]:\n",
        "                i+=1\n",
        "                nums[i]=nums[j]\n",
        "        return i+1        "
      ]
    },
    {
      "cell_type": "markdown",
      "source": [
        "##Example\n",
        "Input: nums = [1,1,2]\\\n",
        "Output: 2, nums = [1,2,_]"
      ],
      "metadata": {
        "id": "2qAO1fuQJB4V"
      }
    },
    {
      "cell_type": "code",
      "source": [
        "nums = [1,1,2]"
      ],
      "metadata": {
        "id": "KKrCmJ1VHY1H"
      },
      "execution_count": 2,
      "outputs": []
    },
    {
      "cell_type": "code",
      "source": [
        "removeDuplicates(nums)"
      ],
      "metadata": {
        "colab": {
          "base_uri": "https://localhost:8080/"
        },
        "id": "AKtNKGNvJL1T",
        "outputId": "f7f1f52c-0e73-4312-a16c-49c9a2d4cd25"
      },
      "execution_count": 3,
      "outputs": [
        {
          "output_type": "execute_result",
          "data": {
            "text/plain": [
              "2"
            ]
          },
          "metadata": {},
          "execution_count": 3
        }
      ]
    },
    {
      "cell_type": "code",
      "source": [
        ""
      ],
      "metadata": {
        "id": "nNVQvhhXJOoJ"
      },
      "execution_count": null,
      "outputs": []
    }
  ]
}