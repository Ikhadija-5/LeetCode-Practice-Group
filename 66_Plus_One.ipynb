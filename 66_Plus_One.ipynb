{
  "nbformat": 4,
  "nbformat_minor": 0,
  "metadata": {
    "colab": {
      "name": "66. Plus One.ipynb",
      "provenance": [],
      "authorship_tag": "ABX9TyNZaEadvEs9qMOdkauDNAoh",
      "include_colab_link": true
    },
    "kernelspec": {
      "name": "python3",
      "display_name": "Python 3"
    },
    "language_info": {
      "name": "python"
    }
  },
  "cells": [
    {
      "cell_type": "markdown",
      "metadata": {
        "id": "view-in-github",
        "colab_type": "text"
      },
      "source": [
        "<a href=\"https://colab.research.google.com/github/Ikhadija-5/LeetCode-Practice-Group/blob/main/66_Plus_One.ipynb\" target=\"_parent\"><img src=\"https://colab.research.google.com/assets/colab-badge.svg\" alt=\"Open In Colab\"/></a>"
      ]
    },
    {
      "cell_type": "markdown",
      "source": [
        "## 66. Plus One"
      ],
      "metadata": {
        "id": "4exUu8ZxWICM"
      }
    },
    {
      "cell_type": "markdown",
      "source": [
        "You are given a large integer represented as an integer array digits, where each digits[i] is the ith digit of the integer. The digits are ordered from most significant to least significant in left-to-right order. The large integer does not contain any leading 0's.\n",
        "\n",
        "Increment the large integer by one and return the resulting array of digits."
      ],
      "metadata": {
        "id": "S5BcPW1NVXs9"
      }
    },
    {
      "cell_type": "code",
      "execution_count": 5,
      "metadata": {
        "id": "j_5w3aWwVK_a"
      },
      "outputs": [],
      "source": [
        "def plusOne(digits):\n",
        "    \"\"\"\n",
        "    :type digits: List[int]\n",
        "    :rtype: List[int]\n",
        "    \"\"\"\n",
        "    result = int(''.join([str(i) for i in digits]))+1 \n",
        "    return [int(elt) for elt in str(result)]"
      ]
    },
    {
      "cell_type": "code",
      "source": [
        "digits = [1,2,3]"
      ],
      "metadata": {
        "id": "8cvp1x8_VnbX"
      },
      "execution_count": 6,
      "outputs": []
    },
    {
      "cell_type": "code",
      "source": [
        "plusOne(digits)"
      ],
      "metadata": {
        "colab": {
          "base_uri": "https://localhost:8080/"
        },
        "id": "W9zaGRhIVrJB",
        "outputId": "13c7726a-57fd-49f9-fc5f-780e9f9281a9"
      },
      "execution_count": 7,
      "outputs": [
        {
          "output_type": "execute_result",
          "data": {
            "text/plain": [
              "[1, 2, 4]"
            ]
          },
          "metadata": {},
          "execution_count": 7
        }
      ]
    },
    {
      "cell_type": "code",
      "source": [
        ""
      ],
      "metadata": {
        "id": "h-s-DD4dVtZC"
      },
      "execution_count": null,
      "outputs": []
    }
  ]
}