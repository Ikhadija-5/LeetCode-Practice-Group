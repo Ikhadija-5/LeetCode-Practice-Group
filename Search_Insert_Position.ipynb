{
  "nbformat": 4,
  "nbformat_minor": 0,
  "metadata": {
    "colab": {
      "name": "Search_Insert_Position.ipynb",
      "provenance": [],
      "authorship_tag": "ABX9TyOB/PN8j0VRJnGlaGcgCnJX",
      "include_colab_link": true
    },
    "kernelspec": {
      "name": "python3",
      "display_name": "Python 3"
    },
    "language_info": {
      "name": "python"
    }
  },
  "cells": [
    {
      "cell_type": "markdown",
      "metadata": {
        "id": "view-in-github",
        "colab_type": "text"
      },
      "source": [
        "<a href=\"https://colab.research.google.com/github/Ikhadija-5/LeetCode-Practice-Group/blob/main/Search_Insert_Position.ipynb\" target=\"_parent\"><img src=\"https://colab.research.google.com/assets/colab-badge.svg\" alt=\"Open In Colab\"/></a>"
      ]
    },
    {
      "cell_type": "code",
      "execution_count": 9,
      "metadata": {
        "id": "j0URAsDVrQ_I"
      },
      "outputs": [],
      "source": [
        "def searchInsert(nums, target) -> int:\n",
        "\n",
        "  #Iterate through the index of nums\n",
        "      for i in range(len(nums)):\n",
        "        if target>nums[-1]:\n",
        "            return len(nums)\n",
        "        elif target <= nums[i]:\n",
        "            \n",
        "            return i"
      ]
    },
    {
      "cell_type": "code",
      "source": [
        "searchInsert([1,3,5,6], 2)"
      ],
      "metadata": {
        "colab": {
          "base_uri": "https://localhost:8080/"
        },
        "id": "SY9cG1-4sBJq",
        "outputId": "6181431a-43c9-4532-a7c2-d1af88a42ee2"
      },
      "execution_count": 12,
      "outputs": [
        {
          "output_type": "execute_result",
          "data": {
            "text/plain": [
              "1"
            ]
          },
          "metadata": {},
          "execution_count": 12
        }
      ]
    },
    {
      "cell_type": "code",
      "source": [
        "def Search(nums,target):\n",
        "  for i in nums:\n",
        "    if target == i:\n",
        "      return nums.index(target)\n",
        "    else:\n",
        "      nums.append(target)\n",
        "      nums = set(nums)\n",
        "      nums = list(nums)\n",
        "      return nums.index(target)\n"
      ],
      "metadata": {
        "id": "fPsRs7TsiLZC"
      },
      "execution_count": 14,
      "outputs": []
    },
    {
      "cell_type": "code",
      "source": [
        "Search([3,6,8], 0)"
      ],
      "metadata": {
        "colab": {
          "base_uri": "https://localhost:8080/"
        },
        "id": "oAYly9frjJVn",
        "outputId": "30b339d5-0c67-408e-f37d-b96f122e0f58"
      },
      "execution_count": 18,
      "outputs": [
        {
          "output_type": "execute_result",
          "data": {
            "text/plain": [
              "1"
            ]
          },
          "metadata": {},
          "execution_count": 18
        }
      ]
    }
  ]
}